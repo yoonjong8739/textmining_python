{
 "cells": [
  {
   "cell_type": "markdown",
   "metadata": {},
   "source": [
    "## 8.2 감성 사전을 이용한 영화 리뷰 감성 분석\n",
    "- 어휘 기반\n",
    "### 8.2.1 NLTK 영화 리뷰 데이터 준비"
   ]
  },
  {
   "cell_type": "code",
   "execution_count": 1,
   "metadata": {},
   "outputs": [
    {
     "name": "stderr",
     "output_type": "stream",
     "text": [
      "d:\\anaconda3\\lib\\site-packages\\numpy\\_distributor_init.py:30: UserWarning: loaded more than 1 DLL from .libs:\n",
      "d:\\anaconda3\\lib\\site-packages\\numpy\\.libs\\libopenblas.4SP5SUA7CBGXUEOC35YP2ASOICYYEQZZ.gfortran-win_amd64.dll\n",
      "d:\\anaconda3\\lib\\site-packages\\numpy\\.libs\\libopenblas64__v0.3.23-gcc_10_3_0.dll\n",
      "  warnings.warn(\"loaded more than 1 DLL from .libs:\"\n",
      "[nltk_data] Downloading package movie_reviews to\n",
      "[nltk_data]     C:\\Users\\namyo\\AppData\\Roaming\\nltk_data...\n"
     ]
    },
    {
     "name": "stdout",
     "output_type": "stream",
     "text": [
      "#review count : 2000\n"
     ]
    },
    {
     "name": "stderr",
     "output_type": "stream",
     "text": [
      "[nltk_data]   Package movie_reviews is already up-to-date!\n"
     ]
    }
   ],
   "source": [
    "import nltk\n",
    "nltk.download('movie_reviews')\n",
    "\n",
    "from nltk.corpus import movie_reviews\n",
    "print(\"#review count : {}\".format(len(movie_reviews.fileids())))  # 영화 리뷰 문서의 id를 반환"
   ]
  },
  {
   "cell_type": "code",
   "execution_count": 2,
   "metadata": {},
   "outputs": [
    {
     "name": "stdout",
     "output_type": "stream",
     "text": [
      "#samples of file ids : ['neg/cv000_29416.txt', 'neg/cv001_19502.txt', 'neg/cv002_17424.txt', 'neg/cv003_12683.txt', 'neg/cv004_12641.txt', 'neg/cv005_29357.txt', 'neg/cv006_17022.txt', 'neg/cv007_4992.txt', 'neg/cv008_29326.txt', 'neg/cv009_29417.txt']\n",
      "#categories of reviews : ['neg', 'pos']\n",
      "#num of neg reviews : 1000\n",
      "#num of pos reviews : 1000\n",
      "#id of the first review : neg/cv000_29416.txt\n",
      "part of the first review : plot : two teen couples go to a church party , drink and then drive . \n",
      "they get into an accident . \n",
      "one of the guys dies , but his girlfriend continues to see him in her life , and has nightmares . \n",
      "what's the deal ? \n",
      "watch the movie and \" sorta \" find out . . . \n",
      "critique : a mind-fuck movie for the teen generation that touches on a very cool idea , but presents it in a very bad package . \n",
      "which is what makes this review an even harder one to write , since i generally applaud films which attempt\n",
      "sentiment of the first review : ['neg']\n"
     ]
    }
   ],
   "source": [
    "print('#samples of file ids : {}'.format(movie_reviews.fileids()[:10]))  # id를 10개까지만 출력\n",
    "print('#categories of reviews : {}'.format(movie_reviews.categories()))  # label\n",
    "print('#num of neg reviews : {}'.format(len(movie_reviews.fileids(categories='neg'))))\n",
    "print('#num of pos reviews : {}'.format(len(movie_reviews.fileids(categories='pos'))))\n",
    "\n",
    "fileid = movie_reviews.fileids()[0]  # 첫 번째 문서 id를 반환\n",
    "print('#id of the first review : {}'.format(fileid))\n",
    "print('#part of the first review : {}'.format(movie_reviews.raw(fileid)[:500]))\n",
    "print('#sentiment of the first review : {}'.format(movie_reviews.categories(fileid)))\n",
    "\n",
    "# 영화 리뷰 데이터에서 파일 id를 가져옴\n",
    "fileids = movie_reviews.fileids()\n",
    "\n",
    "# 파일 id를 이용해 raw text file을 가져옴\n",
    "reviews = [ movie_reviews.raw(fileid) for fileid in fileids ]\n",
    "categories = [ movie_reviews.categories(fileid)[0] for fileid in fileids ]"
   ]
  },
  {
   "cell_type": "markdown",
   "metadata": {},
   "source": [
    "### [8.2.2 TextBlob을 이용한 감성 분석](https://textblob.readthedocs.io/en/dev/)"
   ]
  },
  {
   "cell_type": "code",
   "execution_count": 3,
   "metadata": {},
   "outputs": [
    {
     "name": "stdout",
     "output_type": "stream",
     "text": [
      "Part of speech tagging : [('plot', 'NN'), ('two', 'CD'), ('teen', 'NN'), ('couples', 'NNS'), ('go', 'VBP'), ('to', 'TO'), ('a', 'DT'), ('church', 'NN'), ('party', 'NN'), ('drink', 'NN'), ('and', 'CC'), ('then', 'RB'), ('drive', 'NN'), ('they', 'PRP'), ('get', 'VBP'), ('into', 'IN'), ('an', 'DT'), ('accident', 'NN'), ('one', 'CD'), ('of', 'IN'), ('the', 'DT'), ('guys', 'NN'), ('dies', 'VBZ'), ('but', 'CC'), ('his', 'PRP$'), ('girlfriend', 'NN'), ('continues', 'VBZ'), ('to', 'TO'), ('see', 'VB'), ('him', 'PRP'), ('in', 'IN'), ('her', 'PRP$'), ('life', 'NN'), ('and', 'CC'), ('has', 'VBZ'), ('nightmares', 'NNS'), ('what', 'WP'), (\"'s\", 'VBZ'), ('the', 'DT'), ('deal', 'NN'), ('watch', 'VB'), ('the', 'DT'), ('movie', 'NN'), ('and', 'CC'), ('sorta', 'JJ'), ('find', 'VB'), ('out', 'RP'), ('critique', 'NN'), ('a', 'DT'), ('mind-fuck', 'JJ'), ('movie', 'NN'), ('for', 'IN'), ('the', 'DT'), ('teen', 'JJ'), ('generation', 'NN'), ('that', 'WDT'), ('touches', 'VBZ'), ('on', 'IN'), ('a', 'DT'), ('very', 'RB'), ('cool', 'JJ'), ('idea', 'NN'), ('but', 'CC'), ('presents', 'VBZ'), ('it', 'PRP'), ('in', 'IN'), ('a', 'DT'), ('very', 'RB'), ('bad', 'JJ'), ('package', 'NN'), ('which', 'WDT'), ('is', 'VBZ'), ('what', 'WP'), ('makes', 'VBZ'), ('this', 'DT'), ('review', 'NN'), ('an', 'DT'), ('even', 'RB'), ('harder', 'RBR'), ('one', 'CD'), ('to', 'TO'), ('write', 'VB'), ('since', 'IN'), ('i', 'NN'), ('generally', 'RB'), ('applaud', 'VBP'), ('films', 'NNS'), ('which', 'WDT'), ('attempt', 'VBP'), ('to', 'TO'), ('break', 'VB'), ('the', 'DT'), ('mold', 'NN'), ('mess', 'NN'), ('with', 'IN'), ('your', 'PRP$'), ('head', 'NN'), ('and', 'CC'), ('such', 'JJ'), ('lost', 'VBN'), ('highway', 'NN'), ('&', 'CC'), ('memento', 'NN'), ('but', 'CC'), ('there', 'EX'), ('are', 'VBP'), ('good', 'JJ'), ('and', 'CC'), ('bad', 'JJ'), ('ways', 'NNS'), ('of', 'IN'), ('making', 'VBG'), ('all', 'DT'), ('types', 'NNS'), ('of', 'IN'), ('films', 'NNS'), ('and', 'CC'), ('these', 'DT'), ('folks', 'NNS'), ('just', 'RB'), ('did', 'VBD'), (\"n't\", 'RB'), ('snag', 'VB'), ('this', 'DT'), ('one', 'CD'), ('correctly', 'RB'), ('they', 'PRP'), ('seem', 'VBP'), ('to', 'TO'), ('have', 'VB'), ('taken', 'VBN'), ('this', 'DT'), ('pretty', 'RB'), ('neat', 'JJ'), ('concept', 'NN'), ('but', 'CC'), ('executed', 'VBD'), ('it', 'PRP'), ('terribly', 'RB'), ('so', 'RB'), ('what', 'WP'), ('are', 'VBP'), ('the', 'DT'), ('problems', 'NNS'), ('with', 'IN'), ('the', 'DT'), ('movie', 'NN'), ('well', 'RB'), ('its', 'PRP$'), ('main', 'JJ'), ('problem', 'NN'), ('is', 'VBZ'), ('that', 'IN'), ('it', 'PRP'), (\"'s\", 'VBZ'), ('simply', 'RB'), ('too', 'RB'), ('jumbled', 'VBN'), ('it', 'PRP'), ('starts', 'VBZ'), ('off', 'IN'), ('normal', 'JJ'), ('but', 'CC'), ('then', 'RB'), ('downshifts', 'VBZ'), ('into', 'IN'), ('this', 'DT'), ('fantasy', 'JJ'), ('world', 'NN'), ('in', 'IN'), ('which', 'WDT'), ('you', 'PRP'), ('as', 'IN'), ('an', 'DT'), ('audience', 'NN'), ('member', 'NN'), ('have', 'VBP'), ('no', 'DT'), ('idea', 'NN'), ('what', 'WP'), (\"'s\", 'VBZ'), ('going', 'VBG'), ('on', 'IN'), ('there', 'EX'), ('are', 'VBP'), ('dreams', 'NNS'), ('there', 'EX'), ('are', 'VBP'), ('characters', 'NNS'), ('coming', 'VBG'), ('back', 'RB'), ('from', 'IN'), ('the', 'DT'), ('dead', 'JJ'), ('there', 'EX'), ('are', 'VBP'), ('others', 'NNS'), ('who', 'WP'), ('look', 'VBP'), ('like', 'IN'), ('the', 'DT'), ('dead', 'JJ'), ('there', 'EX'), ('are', 'VBP'), ('strange', 'JJ'), ('apparitions', 'NNS'), ('there', 'EX'), ('are', 'VBP'), ('disappearances', 'NNS'), ('there', 'EX'), ('are', 'VBP'), ('a', 'DT'), ('looooot', 'NN'), ('of', 'IN'), ('chase', 'NN'), ('scenes', 'NNS'), ('there', 'EX'), ('are', 'VBP'), ('tons', 'NNS'), ('of', 'IN'), ('weird', 'JJ'), ('things', 'NNS'), ('that', 'WDT'), ('happen', 'VBP'), ('and', 'CC'), ('most', 'JJS'), ('of', 'IN'), ('it', 'PRP'), ('is', 'VBZ'), ('simply', 'RB'), ('not', 'RB'), ('explained', 'VBN'), ('now', 'RB'), ('i', 'VBZ'), ('personally', 'RB'), ('do', 'VBP'), (\"n't\", 'RB'), ('mind', 'VB'), ('trying', 'VBG'), ('to', 'TO'), ('unravel', 'VB'), ('a', 'DT'), ('film', 'NN'), ('every', 'DT'), ('now', 'RB'), ('and', 'CC'), ('then', 'RB'), ('but', 'CC'), ('when', 'WRB'), ('all', 'DT'), ('it', 'PRP'), ('does', 'VBZ'), ('is', 'VBZ'), ('give', 'VB'), ('me', 'PRP'), ('the', 'DT'), ('same', 'JJ'), ('clue', 'NN'), ('over', 'IN'), ('and', 'CC'), ('over', 'RB'), ('again', 'RB'), ('i', 'JJ'), ('get', 'VBP'), ('kind', 'NN'), ('of', 'IN'), ('fed', 'VBN'), ('up', 'RP'), ('after', 'IN'), ('a', 'DT'), ('while', 'NN'), ('which', 'WDT'), ('is', 'VBZ'), ('this', 'DT'), ('film', 'NN'), (\"'s\", 'POS'), ('biggest', 'JJS'), ('problem', 'NN'), ('it', 'PRP'), (\"'s\", 'VBZ'), ('obviously', 'RB'), ('got', 'VBD'), ('this', 'DT'), ('big', 'JJ'), ('secret', 'NN'), ('to', 'TO'), ('hide', 'VB'), ('but', 'CC'), ('it', 'PRP'), ('seems', 'VBZ'), ('to', 'TO'), ('want', 'VB'), ('to', 'TO'), ('hide', 'VB'), ('it', 'PRP'), ('completely', 'RB'), ('until', 'IN'), ('its', 'PRP$'), ('final', 'JJ'), ('five', 'CD'), ('minutes', 'NNS'), ('and', 'CC'), ('do', 'VBP'), ('they', 'PRP'), ('make', 'VB'), ('things', 'NNS'), ('entertaining', 'VBG'), ('thrilling', 'VBG'), ('or', 'CC'), ('even', 'RB'), ('engaging', 'VBG'), ('in', 'IN'), ('the', 'DT'), ('meantime', 'NN'), ('not', 'RB'), ('really', 'RB'), ('the', 'DT'), ('sad', 'JJ'), ('part', 'NN'), ('is', 'VBZ'), ('that', 'IN'), ('the', 'DT'), ('arrow', 'NN'), ('and', 'CC'), ('i', 'VB'), ('both', 'DT'), ('dig', 'NN'), ('on', 'IN'), ('flicks', 'NNS'), ('like', 'IN'), ('this', 'DT'), ('so', 'IN'), ('we', 'PRP'), ('actually', 'RB'), ('figured', 'VBD'), ('most', 'JJS'), ('of', 'IN'), ('it', 'PRP'), ('out', 'RP'), ('by', 'IN'), ('the', 'DT'), ('half-way', 'JJ'), ('point', 'NN'), ('so', 'IN'), ('all', 'DT'), ('of', 'IN'), ('the', 'DT'), ('strangeness', 'NN'), ('after', 'IN'), ('that', 'DT'), ('did', 'VBD'), ('start', 'VB'), ('to', 'TO'), ('make', 'VB'), ('a', 'DT'), ('little', 'JJ'), ('bit', 'NN'), ('of', 'IN'), ('sense', 'NN'), ('but', 'CC'), ('it', 'PRP'), ('still', 'RB'), ('did', 'VBD'), (\"n't\", 'RB'), ('the', 'DT'), ('make', 'VB'), ('the', 'DT'), ('film', 'NN'), ('all', 'PDT'), ('that', 'IN'), ('more', 'JJR'), ('entertaining', 'NN'), ('i', 'NN'), ('guess', 'VBP'), ('the', 'DT'), ('bottom', 'JJ'), ('line', 'NN'), ('with', 'IN'), ('movies', 'NNS'), ('like', 'IN'), ('this', 'DT'), ('is', 'VBZ'), ('that', 'IN'), ('you', 'PRP'), ('should', 'MD'), ('always', 'RB'), ('make', 'VB'), ('sure', 'JJ'), ('that', 'IN'), ('the', 'DT'), ('audience', 'NN'), ('is', 'VBZ'), ('into', 'IN'), ('it', 'PRP'), ('even', 'RB'), ('before', 'IN'), ('they', 'PRP'), ('are', 'VBP'), ('given', 'VBN'), ('the', 'DT'), ('secret', 'JJ'), ('password', 'NN'), ('to', 'TO'), ('enter', 'VB'), ('your', 'PRP$'), ('world', 'NN'), ('of', 'IN'), ('understanding', 'NN'), ('i', 'JJ'), ('mean', 'VBP'), ('showing', 'VBG'), ('melissa', 'JJ'), ('sagemiller', 'NN'), ('running', 'VBG'), ('away', 'RB'), ('from', 'IN'), ('visions', 'NNS'), ('for', 'IN'), ('about', 'IN'), ('20', 'CD'), ('minutes', 'NNS'), ('throughout', 'IN'), ('the', 'DT'), ('movie', 'NN'), ('is', 'VBZ'), ('just', 'RB'), ('plain', 'JJ'), ('lazy', 'JJ'), ('okay', 'RB'), ('we', 'PRP'), ('get', 'VBP'), ('it', 'PRP'), ('there', 'EX'), ('are', 'VBP'), ('people', 'NNS'), ('chasing', 'VBG'), ('her', 'PRP$'), ('and', 'CC'), ('we', 'PRP'), ('do', 'VBP'), (\"n't\", 'RB'), ('know', 'VB'), ('who', 'WP'), ('they', 'PRP'), ('are', 'VBP'), ('do', 'VBP'), ('we', 'PRP'), ('really', 'RB'), ('need', 'VB'), ('to', 'TO'), ('see', 'VB'), ('it', 'PRP'), ('over', 'IN'), ('and', 'CC'), ('over', 'RB'), ('again', 'RB'), ('how', 'WRB'), ('about', 'IN'), ('giving', 'VBG'), ('us', 'PRP'), ('different', 'JJ'), ('scenes', 'NNS'), ('offering', 'VBG'), ('further', 'JJ'), ('insight', 'NN'), ('into', 'IN'), ('all', 'DT'), ('of', 'IN'), ('the', 'DT'), ('strangeness', 'NN'), ('going', 'VBG'), ('down', 'RP'), ('in', 'IN'), ('the', 'DT'), ('movie', 'NN'), ('apparently', 'RB'), ('the', 'DT'), ('studio', 'NN'), ('took', 'VBD'), ('this', 'DT'), ('film', 'NN'), ('away', 'RB'), ('from', 'IN'), ('its', 'PRP$'), ('director', 'NN'), ('and', 'CC'), ('chopped', 'VBD'), ('it', 'PRP'), ('up', 'RP'), ('themselves', 'PRP'), ('and', 'CC'), ('it', 'PRP'), ('shows', 'VBZ'), ('there', 'RB'), ('might', 'MD'), (\"'ve\", 'VBP'), ('been', 'VBN'), ('a', 'DT'), ('pretty', 'JJ'), ('decent', 'JJ'), ('teen', 'JJ'), ('mind-fuck', 'JJ'), ('movie', 'NN'), ('in', 'IN'), ('here', 'RB'), ('somewhere', 'RB'), ('but', 'CC'), ('i', 'VBZ'), ('guess', 'VBP'), ('the', 'DT'), ('suits', 'NNS'), ('decided', 'VBD'), ('that', 'IN'), ('turning', 'VBG'), ('it', 'PRP'), ('into', 'IN'), ('a', 'DT'), ('music', 'NN'), ('video', 'NN'), ('with', 'IN'), ('little', 'JJ'), ('edge', 'NN'), ('would', 'MD'), ('make', 'VB'), ('more', 'JJR'), ('sense', 'NN'), ('the', 'DT'), ('actors', 'NNS'), ('are', 'VBP'), ('pretty', 'RB'), ('good', 'JJ'), ('for', 'IN'), ('the', 'DT'), ('most', 'JJS'), ('part', 'NN'), ('although', 'IN'), ('wes', 'JJ'), ('bentley', 'NN'), ('just', 'RB'), ('seemed', 'VBD'), ('to', 'TO'), ('be', 'VB'), ('playing', 'VBG'), ('the', 'DT'), ('exact', 'JJ'), ('same', 'JJ'), ('character', 'NN'), ('that', 'IN'), ('he', 'PRP'), ('did', 'VBD'), ('in', 'IN'), ('american', 'JJ'), ('beauty', 'NN'), ('only', 'RB'), ('in', 'IN'), ('a', 'DT'), ('new', 'JJ'), ('neighborhood', 'NN'), ('but', 'CC'), ('my', 'PRP$'), ('biggest', 'JJS'), ('kudos', 'NN'), ('go', 'VBP'), ('out', 'RP'), ('to', 'TO'), ('sagemiller', 'VB'), ('who', 'WP'), ('holds', 'VBZ'), ('her', 'PRP$'), ('own', 'JJ'), ('throughout', 'IN'), ('the', 'DT'), ('entire', 'JJ'), ('film', 'NN'), ('and', 'CC'), ('actually', 'RB'), ('has', 'VBZ'), ('you', 'PRP'), ('feeling', 'VBG'), ('her', 'PRP$'), ('character', 'NN'), (\"'s\", 'POS'), ('unraveling', 'NN'), ('overall', 'JJ'), ('the', 'DT'), ('film', 'NN'), ('does', 'VBZ'), (\"n't\", 'RB'), ('stick', 'VB'), ('because', 'IN'), ('it', 'PRP'), ('does', 'VBZ'), (\"n't\", 'RB'), ('entertain', 'VB'), ('it', 'PRP'), (\"'s\", 'VBZ'), ('confusing', 'VBG'), ('it', 'PRP'), ('rarely', 'RB'), ('excites', 'VBZ'), ('and', 'CC'), ('it', 'PRP'), ('feels', 'VBZ'), ('pretty', 'JJ'), ('redundant', 'NN'), ('for', 'IN'), ('most', 'JJS'), ('of', 'IN'), ('its', 'PRP$'), ('runtime', 'NN'), ('despite', 'IN'), ('a', 'DT'), ('pretty', 'JJ'), ('cool', 'NN'), ('ending', 'VBG'), ('and', 'CC'), ('explanation', 'NN'), ('to', 'TO'), ('all', 'DT'), ('of', 'IN'), ('the', 'DT'), ('craziness', 'NN'), ('that', 'WDT'), ('came', 'VBD'), ('before', 'IN'), ('it', 'PRP'), ('oh', 'UH'), ('and', 'CC'), ('by', 'IN'), ('the', 'DT'), ('way', 'NN'), ('this', 'DT'), ('is', 'VBZ'), ('not', 'RB'), ('a', 'DT'), ('horror', 'NN'), ('or', 'CC'), ('teen', 'JJ'), ('slasher', 'JJR'), ('flick', 'NN'), ('it', 'PRP'), (\"'s\", 'VBZ'), ('just', 'RB'), ('packaged', 'VBN'), ('to', 'TO'), ('look', 'VB'), ('that', 'DT'), ('way', 'NN'), ('because', 'IN'), ('someone', 'NN'), ('is', 'VBZ'), ('apparently', 'RB'), ('assuming', 'VBG'), ('that', 'IN'), ('the', 'DT'), ('genre', 'NN'), ('is', 'VBZ'), ('still', 'RB'), ('hot', 'JJ'), ('with', 'IN'), ('the', 'DT'), ('kids', 'NNS'), ('it', 'PRP'), ('also', 'RB'), ('wrapped', 'VBD'), ('production', 'NN'), ('two', 'CD'), ('years', 'NNS'), ('ago', 'RB'), ('and', 'CC'), ('has', 'VBZ'), ('been', 'VBN'), ('sitting', 'VBG'), ('on', 'IN'), ('the', 'DT'), ('shelves', 'NNS'), ('ever', 'RB'), ('since', 'IN'), ('whatever', 'WDT'), ('skip', 'VB'), ('it', 'PRP'), ('where', 'WRB'), (\"'s\", 'POS'), ('joblo', 'NN'), ('coming', 'VBG'), ('from', 'IN'), ('a', 'DT'), ('nightmare', 'NN'), ('of', 'IN'), ('elm', 'JJ'), ('street', 'NN'), ('3', 'CD'), ('7/10', 'CD'), ('blair', 'NN'), ('witch', 'NN'), ('2', 'CD'), ('7/10', 'CD'), ('the', 'DT'), ('crow', 'NN'), ('9/10', 'CD'), ('the', 'DT'), ('crow', 'NN'), ('salvation', 'NN'), ('4/10', 'CD'), ('lost', 'VBN'), ('highway', 'NN'), ('10/10', 'CD'), ('memento', 'NN'), ('10/10', 'CD'), ('the', 'DT'), ('others', 'NNS'), ('9/10', 'CD'), ('stir', 'NN'), ('of', 'IN'), ('echoes', 'NNS'), ('8/10', 'CD')]\n",
      "Noun Phrase Extraction : ['teen couples', 'church party', 'mind-fuck movie', 'teen generation', 'cool idea', 'bad package', 'bad ways', \"n't snag\", 'pretty neat concept', 'main problem', 'audience member', 'strange apparitions', 'chase scenes', 'weird things', \"n't mind\", \"film 's\", 'sad part', 'half-way point', 'i guess', 'bottom line', 'secret password', 'melissa sagemiller', 'different scenes offering', 'pretty decent teen mind-fuck movie', 'i guess', 'music video', 'wes bentley', 'american beauty', 'new neighborhood', 'entire film', \"character 's\", 'teen slasher flick', \"'s joblo\", 'elm street', 'blair witch']\n",
      "Sentiment Analysis : Sentiment(polarity=0.06479782948532947, subjectivity=0.5188408350908352)\n"
     ]
    }
   ],
   "source": [
    "from textblob import TextBlob\n",
    "result = TextBlob(reviews[0])  # 첫째 리뷰에 대한 결과\n",
    "print(\"Part of speech tagging : {}\".format(result.tags, \"\\n\"))\n",
    "print(\"Noun Phrase Extraction : {}\".format(result.noun_phrases, \"\\n\"))\n",
    "print(\"Sentiment Analysis : {}\".format(result.sentiment))"
   ]
  },
  {
   "cell_type": "code",
   "execution_count": 4,
   "metadata": {},
   "outputs": [],
   "source": [
    "def sentiment_TextBlob(docs):\n",
    "    results = []\n",
    "    \n",
    "    for doc in docs:\n",
    "        testimonial = TextBlob(doc)\n",
    "        if testimonial.sentiment.polarity > 0:\n",
    "            results.append('pos')\n",
    "        else:\n",
    "            results.append('neg')\n",
    "    return results"
   ]
  },
  {
   "cell_type": "code",
   "execution_count": 5,
   "metadata": {},
   "outputs": [
    {
     "name": "stdout",
     "output_type": "stream",
     "text": [
      "#TextBlob을 이용한 리뷰 감성분석의 정확도 :  0.6\n"
     ]
    }
   ],
   "source": [
    "from sklearn.metrics import accuracy_score\n",
    "print('#TextBlob을 이용한 리뷰 감성분석의 정확도 : ',\n",
    "    accuracy_score(categories, sentiment_TextBlob(reviews))\n",
    ")"
   ]
  },
  {
   "cell_type": "markdown",
   "metadata": {},
   "source": [
    "### 8.2.3 AFINN을 이용한 감성 분석\n",
    "```python\n",
    "%pip install afinn\n",
    "```"
   ]
  },
  {
   "cell_type": "code",
   "execution_count": 6,
   "metadata": {},
   "outputs": [
    {
     "name": "stdout",
     "output_type": "stream",
     "text": [
      "#Afinn을 이용한 리뷰 감성 분석의 정확도 :  0.664\n"
     ]
    }
   ],
   "source": [
    "from afinn import Afinn\n",
    "\n",
    "def sentiment_Afinn(docs):\n",
    "    afn = Afinn(emoticons=True)\n",
    "    results = []\n",
    "    \n",
    "    for doc in docs:\n",
    "        if afn.score(doc) > 0:\n",
    "            results.append('pos')\n",
    "        else:\n",
    "            results.append('neg')\n",
    "    return results\n",
    "\n",
    "print('#Afinn을 이용한 리뷰 감성 분석의 정확도 : ',\n",
    "    accuracy_score(categories, sentiment_Afinn(reviews))\n",
    ")"
   ]
  },
  {
   "cell_type": "markdown",
   "metadata": {},
   "source": [
    "### 8.2.4 VADER를 이용한 감성 분석"
   ]
  },
  {
   "cell_type": "code",
   "execution_count": 7,
   "metadata": {},
   "outputs": [
    {
     "name": "stderr",
     "output_type": "stream",
     "text": [
      "[nltk_data] Downloading package vader_lexicon to\n",
      "[nltk_data]     C:\\Users\\namyo\\AppData\\Roaming\\nltk_data...\n",
      "[nltk_data]   Package vader_lexicon is already up-to-date!\n"
     ]
    },
    {
     "data": {
      "text/plain": [
       "True"
      ]
     },
     "execution_count": 7,
     "metadata": {},
     "output_type": "execute_result"
    }
   ],
   "source": [
    "import nltk\n",
    "nltk.download('vader_lexicon')"
   ]
  },
  {
   "cell_type": "code",
   "execution_count": 8,
   "metadata": {},
   "outputs": [
    {
     "name": "stdout",
     "output_type": "stream",
     "text": [
      "#VADER을 이용한 리뷰 감성 분석 정확도 :  0.635\n"
     ]
    }
   ],
   "source": [
    "from afinn import Afinn\n",
    "from nltk.sentiment.vader import SentimentIntensityAnalyzer\n",
    "\n",
    "def sentiment_vader(docs):\n",
    "    analyser = SentimentIntensityAnalyzer()\n",
    "    results = []\n",
    "    \n",
    "    for doc in docs:\n",
    "        score = analyser.polarity_scores(doc)\n",
    "        if score['compound'] > 0:\n",
    "            results.append('pos')\n",
    "        else:\n",
    "            results.append('neg')\n",
    "    \n",
    "    return results\n",
    "print('#VADER을 이용한 리뷰 감성 분석 정확도 : ',\n",
    "    accuracy_score(categories, sentiment_vader(reviews))\n",
    ")"
   ]
  },
  {
   "cell_type": "markdown",
   "metadata": {},
   "source": [
    "## 8.3 학습을 통한 머신러닝 기반의 감성 분석\n",
    "### 8.3.1 NLTK 영화 리뷰에 대한 머신러닝 기반 감성 분석"
   ]
  },
  {
   "cell_type": "code",
   "execution_count": 10,
   "metadata": {},
   "outputs": [
    {
     "name": "stdout",
     "output_type": "stream",
     "text": [
      "Train set count : 1600\n",
      "Test set count : 400\n"
     ]
    }
   ],
   "source": [
    "from sklearn.model_selection import train_test_split\n",
    "\n",
    "X_train, X_test, y_train, y_test = train_test_split(\n",
    "    reviews, categories, test_size=0.2, random_state=7\n",
    ")\n",
    "\n",
    "print('Train set count : {}'.format(len(X_train)))\n",
    "print('Test set count : {}'.format(len(X_test)))"
   ]
  },
  {
   "cell_type": "code",
   "execution_count": 11,
   "metadata": {},
   "outputs": [
    {
     "name": "stdout",
     "output_type": "stream",
     "text": [
      "#Train set dimension : (1600, 36189)\n",
      "#Test set dimension : (400, 36189)\n",
      "#Train set score : 0.998\n",
      "#Test set score : 0.797\n"
     ]
    }
   ],
   "source": [
    "from sklearn.feature_extraction.text import TfidfVectorizer\n",
    "from sklearn.naive_bayes import MultinomialNB\n",
    "\n",
    "tfidf = TfidfVectorizer()\n",
    "\n",
    "X_train_tfidf = tfidf.fit_transform(X_train)\n",
    "X_test_tfidf = tfidf.transform(X_test)\n",
    "print('#Train set dimension : {}'.format(X_train_tfidf.shape))\n",
    "print('#Test set dimension : {}'.format(X_test_tfidf.shape))\n",
    "\n",
    "NB_clf = MultinomialNB(alpha=0.01)\n",
    "NB_clf.fit(X_train_tfidf, y_train)\n",
    "\n",
    "print('#Train set score : {:.3f}'.format(NB_clf.score(X_train_tfidf, y_train)))\n",
    "print('#Test set score : {:.3f}'.format(NB_clf.score(X_test_tfidf, y_test)))"
   ]
  },
  {
   "cell_type": "markdown",
   "metadata": {},
   "source": [
    "### 8.3.2 다음 영화 리뷰에 대한 머신러닝 기반 감성 분석"
   ]
  },
  {
   "cell_type": "code",
   "execution_count": 12,
   "metadata": {},
   "outputs": [
    {
     "data": {
      "text/html": [
       "<div>\n",
       "<style scoped>\n",
       "    .dataframe tbody tr th:only-of-type {\n",
       "        vertical-align: middle;\n",
       "    }\n",
       "\n",
       "    .dataframe tbody tr th {\n",
       "        vertical-align: top;\n",
       "    }\n",
       "\n",
       "    .dataframe thead th {\n",
       "        text-align: right;\n",
       "    }\n",
       "</style>\n",
       "<table border=\"1\" class=\"dataframe\">\n",
       "  <thead>\n",
       "    <tr style=\"text-align: right;\">\n",
       "      <th></th>\n",
       "      <th>review</th>\n",
       "      <th>rating</th>\n",
       "      <th>date</th>\n",
       "      <th>title</th>\n",
       "    </tr>\n",
       "  </thead>\n",
       "  <tbody>\n",
       "    <tr>\n",
       "      <th>0</th>\n",
       "      <td>돈 들인건 티가 나지만 보는 내내 하품만</td>\n",
       "      <td>1</td>\n",
       "      <td>2018.10.29</td>\n",
       "      <td>인피니티 워</td>\n",
       "    </tr>\n",
       "    <tr>\n",
       "      <th>1</th>\n",
       "      <td>몰입할수밖에 없다. 어렵게 생각할 필요없다. 내가 전투에 참여한듯 손에 땀이남.</td>\n",
       "      <td>10</td>\n",
       "      <td>2018.10.26</td>\n",
       "      <td>인피니티 워</td>\n",
       "    </tr>\n",
       "    <tr>\n",
       "      <th>2</th>\n",
       "      <td>이전 작품에 비해 더 화려하고 스케일도 커졌지만.... 전국 맛집의 음식들을 한데 ...</td>\n",
       "      <td>8</td>\n",
       "      <td>2018.10.24</td>\n",
       "      <td>인피니티 워</td>\n",
       "    </tr>\n",
       "    <tr>\n",
       "      <th>3</th>\n",
       "      <td>이 정도면 볼만하다고 할 수 있음!</td>\n",
       "      <td>8</td>\n",
       "      <td>2018.10.22</td>\n",
       "      <td>인피니티 워</td>\n",
       "    </tr>\n",
       "    <tr>\n",
       "      <th>4</th>\n",
       "      <td>재미있다</td>\n",
       "      <td>10</td>\n",
       "      <td>2018.10.20</td>\n",
       "      <td>인피니티 워</td>\n",
       "    </tr>\n",
       "  </tbody>\n",
       "</table>\n",
       "</div>"
      ],
      "text/plain": [
       "                                              review  rating        date  \\\n",
       "0                             돈 들인건 티가 나지만 보는 내내 하품만       1  2018.10.29   \n",
       "1       몰입할수밖에 없다. 어렵게 생각할 필요없다. 내가 전투에 참여한듯 손에 땀이남.      10  2018.10.26   \n",
       "2  이전 작품에 비해 더 화려하고 스케일도 커졌지만.... 전국 맛집의 음식들을 한데 ...       8  2018.10.24   \n",
       "3                                이 정도면 볼만하다고 할 수 있음!       8  2018.10.22   \n",
       "4                                               재미있다      10  2018.10.20   \n",
       "\n",
       "    title  \n",
       "0  인피니티 워  \n",
       "1  인피니티 워  \n",
       "2  인피니티 워  \n",
       "3  인피니티 워  \n",
       "4  인피니티 워  "
      ]
     },
     "execution_count": 12,
     "metadata": {},
     "output_type": "execute_result"
    }
   ],
   "source": [
    "import pandas as pd\n",
    "df = pd.read_csv('./data/daum_movie_review.csv')\n",
    "df.head(5)"
   ]
  },
  {
   "cell_type": "code",
   "execution_count": 13,
   "metadata": {},
   "outputs": [
    {
     "data": {
      "image/png": "[encoded data removed]",
      "text/plain": [
       "<Figure size 640x480 with 1 Axes>"
      ]
     },
     "metadata": {},
     "output_type": "display_data"
    }
   ],
   "source": [
    "import matplotlib.pyplot as plt\n",
    "%matplotlib inline\n",
    "plt.style.use('ggplot')\n",
    "\n",
    "df['rating'].value_counts().sort_index().plot(kind='bar')\n",
    "#df['rating'].plot.hist(bins=10)  # 히스토그램\n",
    "plt.show();"
   ]
  },
  {
   "cell_type": "code",
   "execution_count": 14,
   "metadata": {},
   "outputs": [
    {
     "name": "stdout",
     "output_type": "stream",
     "text": [
      "#Train set size : 11043\n",
      "#Test set size : 3682\n"
     ]
    },
    {
     "name": "stderr",
     "output_type": "stream",
     "text": [
      "d:\\anaconda3\\lib\\site-packages\\sklearn\\feature_extraction\\text.py:528: UserWarning: The parameter 'token_pattern' will not be used since 'tokenizer' is not None'\n",
      "  warnings.warn(\n"
     ]
    },
    {
     "name": "stdout",
     "output_type": "stream",
     "text": [
      "#Regression Train set R2 score : 0.6045480181543007\n",
      "#Regression Test set R2 score : 0.39500332535456006\n"
     ]
    }
   ],
   "source": [
    "from sklearn.model_selection import train_test_split\n",
    "from konlpy.tag import Okt\n",
    "from sklearn.linear_model import LinearRegression\n",
    "\n",
    "X_train, X_test, y_train, y_test = train_test_split(\n",
    "    df['review'], df['rating'], random_state=7\n",
    ")\n",
    "print('#Train set size : {}'.format(len(X_train)))\n",
    "print('#Test set size : {}'.format(len(X_test)))\n",
    "\n",
    "okt = Okt()\n",
    "\n",
    "def twit_tokenizer(text):  # 명사, 동사, 형용사를 사용\n",
    "    target_tags = ['Noun', 'Verb', 'Adjective']\n",
    "    result = []\n",
    "    for word, tag in okt.pos(text, norm=True, stem=True):\n",
    "        if tag in target_tags:\n",
    "            result.append(word)\n",
    "    return result\n",
    "\n",
    "# 명사, 동사, 형용사를 이용해 tfidf 생성\n",
    "tfidf = TfidfVectorizer(tokenizer=twit_tokenizer,\n",
    "                        max_features=2000, min_df=5, max_df=0.5)\n",
    "X_train_tfidf = tfidf.fit_transform(X_train)\n",
    "X_test_tfidf = tfidf.transform(X_test)\n",
    "\n",
    "# 다중회귀분석 실시\n",
    "lr = LinearRegression()\n",
    "lr.fit(X_train_tfidf, y_train)\n",
    "print('#Regression Train set R2 score : {}'.format(lr.score(X_train_tfidf, y_train)))\n",
    "print('#Regression Test set R2 score : {}'.format(lr.score(X_test_tfidf, y_test)))"
   ]
  },
  {
   "cell_type": "code",
   "execution_count": 17,
   "metadata": {},
   "outputs": [
    {
     "name": "stdout",
     "output_type": "stream",
     "text": [
      "#Train precision score : 0.8931011681728014\n",
      "#Test precision score : 0.867862969004894\n",
      "\n",
      "#Train recall score : 0.968682763566818\n",
      "#Test recall score : 0.9456096693921081\n",
      "\n",
      "#Train f1 score : 0.9293577981651375\n",
      "#Test f1 score : 0.905069751616196\n",
      "\n",
      "#Train accuracy score : 0.8884361133749887\n",
      "#Test accuracy score : 0.8484519282998371\n"
     ]
    }
   ],
   "source": [
    "from sklearn.metrics import accuracy_score, precision_score, recall_score, f1_score\n",
    "\n",
    "y_train_senti = (y_train > 5)\n",
    "y_test_senti = (y_test > 5)\n",
    "\n",
    "y_train_predict = (lr.predict(X_train_tfidf) > 5)\n",
    "y_test_predict = (lr.predict(X_test_tfidf) > 5)\n",
    "\n",
    "# 정밀도\n",
    "train_precision_score = precision_score(y_train_senti, y_train_predict)\n",
    "test_precision_score = precision_score(y_test_senti, y_test_predict)\n",
    "\n",
    "# 재현율\n",
    "train_recall_score = recall_score(y_train_senti, y_train_predict)\n",
    "test_recall_score = recall_score(y_test_senti, y_test_predict)\n",
    "\n",
    "# f1-score\n",
    "train_f1_score = f1_score(y_train_senti, y_train_predict)\n",
    "test_f1_score = f1_score(y_test_senti, y_test_predict)\n",
    "\n",
    "# 정확도\n",
    "train_accuracy_score = accuracy_score(y_train_senti, y_train_predict)\n",
    "test_accuracy_score = accuracy_score(y_test_senti, y_test_predict)\n",
    "\n",
    "print('#Train precision score : {}'.format(train_precision_score))\n",
    "print('#Test precision score : {}\\n'.format(test_precision_score))\n",
    "\n",
    "print('#Train recall score : {}'.format(train_recall_score))\n",
    "print('#Test recall score : {}\\n'.format(test_recall_score))\n",
    "\n",
    "print('#Train f1 score : {}'.format(train_f1_score))\n",
    "print('#Test f1 score : {}\\n'.format(test_f1_score))\n",
    "\n",
    "print('#Train accuracy score : {}'.format(train_accuracy_score))\n",
    "print('#Test accuracy score : {}'.format(test_accuracy_score))"
   ]
  },
  {
   "cell_type": "code",
   "execution_count": 18,
   "metadata": {},
   "outputs": [
    {
     "name": "stdout",
     "output_type": "stream",
     "text": [
      "#Accuracy for train set: 0.878\n",
      "#Precision for train set: 0.878\n",
      "#Recall for train set: 0.973\n",
      "#F1 for train set: 0.923\n",
      "#Accuracy for test set: 0.855\n",
      "#Precision for test set: 0.866\n",
      "#Recall for test set: 0.958\n",
      "#F1 for test set: 0.910\n"
     ]
    }
   ],
   "source": [
    "from sklearn.linear_model import LogisticRegression #sklearn이 제공하는 logistic regression을 사용\n",
    "\n",
    "#count vector에 대해 regression을 해서 NB와 비교\n",
    "LR_clf = LogisticRegression() #분류기 선언\n",
    "LR_clf.fit(X_train_tfidf, y_train_senti) # train data를 이용하여 분류기를 학습\n",
    "\n",
    "y_train_predict = LR_clf.predict(X_train_tfidf)\n",
    "y_test_predict = LR_clf.predict(X_test_tfidf)\n",
    "\n",
    "print('#Accuracy for train set: {:.3f}'.format(accuracy_score(y_train_senti, y_train_predict)))\n",
    "print('#Precision for train set: {:.3f}'.format(precision_score(y_train_senti, y_train_predict)))\n",
    "print('#Recall for train set: {:.3f}'.format(recall_score(y_train_senti, y_train_predict)))\n",
    "print('#F1 for train set: {:.3f}'.format(f1_score(y_train_senti, y_train_predict)))\n",
    "\n",
    "print('#Accuracy for test set: {:.3f}'.format(accuracy_score(y_test_senti, y_test_predict)))\n",
    "print('#Precision for test set: {:.3f}'.format(precision_score(y_test_senti, y_test_predict)))\n",
    "print('#Recall for test set: {:.3f}'.format(recall_score(y_test_senti, y_test_predict)))\n",
    "print('#F1 for test set: {:.3f}'.format(f1_score(y_test_senti, y_test_predict)))"
   ]
  },
  {
   "cell_type": "code",
   "execution_count": null,
   "metadata": {},
   "outputs": [],
   "source": []
  }
 ],
 "metadata": {
  "kernelspec": {
   "display_name": "base",
   "language": "python",
   "name": "python3"
  },
  "language_info": {
   "codemirror_mode": {
    "name": "ipython",
    "version": 3
   },
   "file_extension": ".py",
   "mimetype": "text/x-python",
   "name": "python",
   "nbconvert_exporter": "python",
   "pygments_lexer": "ipython3",
   "version": "3.9.13"
  },
  "orig_nbformat": 4
 },
 "nbformat": 4,
 "nbformat_minor": 2
}
